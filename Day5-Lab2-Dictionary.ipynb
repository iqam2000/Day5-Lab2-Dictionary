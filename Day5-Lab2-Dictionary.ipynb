{
 "cells": [
  {
   "cell_type": "code",
   "execution_count": null,
   "id": "03a47cf7",
   "metadata": {},
   "outputs": [],
   "source": [
    "phoneNumbers = {\n",
    "    \n",
    "    \"1\": {\"Name\": \"Amal\",\"Number\": 1111111111}, \n",
    "    \"2\": {\"Name\": \"Mohammed\",\"Number\": 2222222222},\n",
    "    \"3\": {\"Name\": \"Khadijah\",\"Number\": 3333333333},\n",
    "    \"4\": {\"Name\": \"Abdullah\",\"Number\": 4444444444},\n",
    "    \"5\": {\"Name\": \"Rawan\",\"Number\": 5555555555},\n",
    "    \"6\": {\"Name\": \"Faisal\",\"Number\": 6666666666},\n",
    "    \"7\": {\"Name\": \"Layla\",\"Number\": 7777777777}}\n",
    "\n",
    "\n",
    "while True:\n",
    "    inp = input('Type a Phone Number: ')\n",
    "      \n",
    "    if len(inp) != 10 :\n",
    "        print(\"This is invalid number (Phone numbers should contain 10 digit)\")\n",
    "        continue\n",
    "        \n",
    "    elif inp.isdigit() == False: \n",
    "        print (\"This is invalid number (contains letters or symbols)\")\n",
    "        \n",
    "    else:\n",
    "        found = False\n",
    "        \n",
    "        for id, info in phoneNumbers.items():\n",
    "            if  int(inp) == info['Number']:\n",
    "                print(\"Owner is \",info['Name'])\n",
    "                found = True\n",
    "                break\n",
    "                \n",
    "        if found == False:\n",
    "            print (\"Sorry, the number is not found\")\n",
    "        \n",
    "       "
   ]
  }
 ],
 "metadata": {
  "kernelspec": {
   "display_name": "Python 3 (ipykernel)",
   "language": "python",
   "name": "python3"
  },
  "language_info": {
   "codemirror_mode": {
    "name": "ipython",
    "version": 3
   },
   "file_extension": ".py",
   "mimetype": "text/x-python",
   "name": "python",
   "nbconvert_exporter": "python",
   "pygments_lexer": "ipython3",
   "version": "3.9.12"
  }
 },
 "nbformat": 4,
 "nbformat_minor": 5
}
